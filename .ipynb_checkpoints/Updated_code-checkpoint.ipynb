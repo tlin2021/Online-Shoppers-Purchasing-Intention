{
 "cells": [
  {
   "cell_type": "code",
   "execution_count": 116,
   "id": "a326db93",
   "metadata": {},
   "outputs": [],
   "source": [
    "import pandas as pd\n",
    "import numpy as np\n",
    "import matplotlib.pyplot as plt\n",
    "import seaborn as sns\n",
    "import scipy.stats as stats"
   ]
  },
  {
   "cell_type": "code",
   "execution_count": 4,
   "id": "47e11b5e",
   "metadata": {},
   "outputs": [
    {
     "data": {
      "text/html": [
       "<div>\n",
       "<style scoped>\n",
       "    .dataframe tbody tr th:only-of-type {\n",
       "        vertical-align: middle;\n",
       "    }\n",
       "\n",
       "    .dataframe tbody tr th {\n",
       "        vertical-align: top;\n",
       "    }\n",
       "\n",
       "    .dataframe thead th {\n",
       "        text-align: right;\n",
       "    }\n",
       "</style>\n",
       "<table border=\"1\" class=\"dataframe\">\n",
       "  <thead>\n",
       "    <tr style=\"text-align: right;\">\n",
       "      <th></th>\n",
       "      <th>Administrative</th>\n",
       "      <th>Administrative_Duration</th>\n",
       "      <th>Informational</th>\n",
       "      <th>Informational_Duration</th>\n",
       "      <th>ProductRelated</th>\n",
       "      <th>ProductRelated_Duration</th>\n",
       "      <th>BounceRates</th>\n",
       "      <th>ExitRates</th>\n",
       "      <th>PageValues</th>\n",
       "      <th>SpecialDay</th>\n",
       "      <th>Month</th>\n",
       "      <th>OperatingSystems</th>\n",
       "      <th>Browser</th>\n",
       "      <th>Region</th>\n",
       "      <th>TrafficType</th>\n",
       "      <th>VisitorType</th>\n",
       "      <th>Weekend</th>\n",
       "      <th>Revenue</th>\n",
       "    </tr>\n",
       "  </thead>\n",
       "  <tbody>\n",
       "    <tr>\n",
       "      <th>0</th>\n",
       "      <td>0</td>\n",
       "      <td>0.0</td>\n",
       "      <td>0</td>\n",
       "      <td>0.0</td>\n",
       "      <td>1</td>\n",
       "      <td>0.000000</td>\n",
       "      <td>0.20</td>\n",
       "      <td>0.20</td>\n",
       "      <td>0.0</td>\n",
       "      <td>0.0</td>\n",
       "      <td>Feb</td>\n",
       "      <td>1</td>\n",
       "      <td>1</td>\n",
       "      <td>1</td>\n",
       "      <td>1</td>\n",
       "      <td>Returning_Visitor</td>\n",
       "      <td>False</td>\n",
       "      <td>False</td>\n",
       "    </tr>\n",
       "    <tr>\n",
       "      <th>1</th>\n",
       "      <td>0</td>\n",
       "      <td>0.0</td>\n",
       "      <td>0</td>\n",
       "      <td>0.0</td>\n",
       "      <td>2</td>\n",
       "      <td>64.000000</td>\n",
       "      <td>0.00</td>\n",
       "      <td>0.10</td>\n",
       "      <td>0.0</td>\n",
       "      <td>0.0</td>\n",
       "      <td>Feb</td>\n",
       "      <td>2</td>\n",
       "      <td>2</td>\n",
       "      <td>1</td>\n",
       "      <td>2</td>\n",
       "      <td>Returning_Visitor</td>\n",
       "      <td>False</td>\n",
       "      <td>False</td>\n",
       "    </tr>\n",
       "    <tr>\n",
       "      <th>2</th>\n",
       "      <td>0</td>\n",
       "      <td>0.0</td>\n",
       "      <td>0</td>\n",
       "      <td>0.0</td>\n",
       "      <td>1</td>\n",
       "      <td>0.000000</td>\n",
       "      <td>0.20</td>\n",
       "      <td>0.20</td>\n",
       "      <td>0.0</td>\n",
       "      <td>0.0</td>\n",
       "      <td>Feb</td>\n",
       "      <td>4</td>\n",
       "      <td>1</td>\n",
       "      <td>9</td>\n",
       "      <td>3</td>\n",
       "      <td>Returning_Visitor</td>\n",
       "      <td>False</td>\n",
       "      <td>False</td>\n",
       "    </tr>\n",
       "    <tr>\n",
       "      <th>3</th>\n",
       "      <td>0</td>\n",
       "      <td>0.0</td>\n",
       "      <td>0</td>\n",
       "      <td>0.0</td>\n",
       "      <td>2</td>\n",
       "      <td>2.666667</td>\n",
       "      <td>0.05</td>\n",
       "      <td>0.14</td>\n",
       "      <td>0.0</td>\n",
       "      <td>0.0</td>\n",
       "      <td>Feb</td>\n",
       "      <td>3</td>\n",
       "      <td>2</td>\n",
       "      <td>2</td>\n",
       "      <td>4</td>\n",
       "      <td>Returning_Visitor</td>\n",
       "      <td>False</td>\n",
       "      <td>False</td>\n",
       "    </tr>\n",
       "    <tr>\n",
       "      <th>4</th>\n",
       "      <td>0</td>\n",
       "      <td>0.0</td>\n",
       "      <td>0</td>\n",
       "      <td>0.0</td>\n",
       "      <td>10</td>\n",
       "      <td>627.500000</td>\n",
       "      <td>0.02</td>\n",
       "      <td>0.05</td>\n",
       "      <td>0.0</td>\n",
       "      <td>0.0</td>\n",
       "      <td>Feb</td>\n",
       "      <td>3</td>\n",
       "      <td>3</td>\n",
       "      <td>1</td>\n",
       "      <td>4</td>\n",
       "      <td>Returning_Visitor</td>\n",
       "      <td>True</td>\n",
       "      <td>False</td>\n",
       "    </tr>\n",
       "  </tbody>\n",
       "</table>\n",
       "</div>"
      ],
      "text/plain": [
       "   Administrative  Administrative_Duration  Informational  \\\n",
       "0               0                      0.0              0   \n",
       "1               0                      0.0              0   \n",
       "2               0                      0.0              0   \n",
       "3               0                      0.0              0   \n",
       "4               0                      0.0              0   \n",
       "\n",
       "   Informational_Duration  ProductRelated  ProductRelated_Duration  \\\n",
       "0                     0.0               1                 0.000000   \n",
       "1                     0.0               2                64.000000   \n",
       "2                     0.0               1                 0.000000   \n",
       "3                     0.0               2                 2.666667   \n",
       "4                     0.0              10               627.500000   \n",
       "\n",
       "   BounceRates  ExitRates  PageValues  SpecialDay Month  OperatingSystems  \\\n",
       "0         0.20       0.20         0.0         0.0   Feb                 1   \n",
       "1         0.00       0.10         0.0         0.0   Feb                 2   \n",
       "2         0.20       0.20         0.0         0.0   Feb                 4   \n",
       "3         0.05       0.14         0.0         0.0   Feb                 3   \n",
       "4         0.02       0.05         0.0         0.0   Feb                 3   \n",
       "\n",
       "   Browser  Region  TrafficType        VisitorType  Weekend  Revenue  \n",
       "0        1       1            1  Returning_Visitor    False    False  \n",
       "1        2       1            2  Returning_Visitor    False    False  \n",
       "2        1       9            3  Returning_Visitor    False    False  \n",
       "3        2       2            4  Returning_Visitor    False    False  \n",
       "4        3       1            4  Returning_Visitor     True    False  "
      ]
     },
     "execution_count": 4,
     "metadata": {},
     "output_type": "execute_result"
    }
   ],
   "source": [
    "df = pd.read_csv('data/online_shoppers_intention.csv')\n",
    "df.head()"
   ]
  },
  {
   "cell_type": "code",
   "execution_count": 92,
   "id": "5d7ac687",
   "metadata": {},
   "outputs": [
    {
     "data": {
      "text/plain": [
       "(12330, 21)"
      ]
     },
     "execution_count": 92,
     "metadata": {},
     "output_type": "execute_result"
    }
   ],
   "source": [
    "# check the # of observations and columns - (12330, 18)\n",
    "df.shape\n",
    "# check missing values\n",
    "#for column in df:\n",
    "#    bool_series = pd.isnull(df[column])\n",
    "#    print(df[bool_series])"
   ]
  },
  {
   "cell_type": "code",
   "execution_count": 7,
   "id": "a5c522a7",
   "metadata": {},
   "outputs": [
    {
     "data": {
      "text/html": [
       "<div>\n",
       "<style scoped>\n",
       "    .dataframe tbody tr th:only-of-type {\n",
       "        vertical-align: middle;\n",
       "    }\n",
       "\n",
       "    .dataframe tbody tr th {\n",
       "        vertical-align: top;\n",
       "    }\n",
       "\n",
       "    .dataframe thead th {\n",
       "        text-align: right;\n",
       "    }\n",
       "</style>\n",
       "<table border=\"1\" class=\"dataframe\">\n",
       "  <thead>\n",
       "    <tr style=\"text-align: right;\">\n",
       "      <th></th>\n",
       "      <th>Administrative</th>\n",
       "      <th>Administrative_Duration</th>\n",
       "      <th>Informational</th>\n",
       "      <th>Informational_Duration</th>\n",
       "      <th>ProductRelated</th>\n",
       "      <th>ProductRelated_Duration</th>\n",
       "      <th>BounceRates</th>\n",
       "      <th>ExitRates</th>\n",
       "      <th>PageValues</th>\n",
       "      <th>SpecialDay</th>\n",
       "      <th>OperatingSystems</th>\n",
       "      <th>Browser</th>\n",
       "      <th>Region</th>\n",
       "      <th>TrafficType</th>\n",
       "    </tr>\n",
       "  </thead>\n",
       "  <tbody>\n",
       "    <tr>\n",
       "      <th>count</th>\n",
       "      <td>12330.000000</td>\n",
       "      <td>12330.000000</td>\n",
       "      <td>12330.000000</td>\n",
       "      <td>12330.000000</td>\n",
       "      <td>12330.000000</td>\n",
       "      <td>12330.000000</td>\n",
       "      <td>12330.000000</td>\n",
       "      <td>12330.000000</td>\n",
       "      <td>12330.000000</td>\n",
       "      <td>12330.000000</td>\n",
       "      <td>12330.000000</td>\n",
       "      <td>12330.000000</td>\n",
       "      <td>12330.000000</td>\n",
       "      <td>12330.000000</td>\n",
       "    </tr>\n",
       "    <tr>\n",
       "      <th>mean</th>\n",
       "      <td>2.315166</td>\n",
       "      <td>80.818611</td>\n",
       "      <td>0.503569</td>\n",
       "      <td>34.472398</td>\n",
       "      <td>31.731468</td>\n",
       "      <td>1194.746220</td>\n",
       "      <td>0.022191</td>\n",
       "      <td>0.043073</td>\n",
       "      <td>5.889258</td>\n",
       "      <td>0.061427</td>\n",
       "      <td>2.124006</td>\n",
       "      <td>2.357097</td>\n",
       "      <td>3.147364</td>\n",
       "      <td>4.069586</td>\n",
       "    </tr>\n",
       "    <tr>\n",
       "      <th>std</th>\n",
       "      <td>3.321784</td>\n",
       "      <td>176.779107</td>\n",
       "      <td>1.270156</td>\n",
       "      <td>140.749294</td>\n",
       "      <td>44.475503</td>\n",
       "      <td>1913.669288</td>\n",
       "      <td>0.048488</td>\n",
       "      <td>0.048597</td>\n",
       "      <td>18.568437</td>\n",
       "      <td>0.198917</td>\n",
       "      <td>0.911325</td>\n",
       "      <td>1.717277</td>\n",
       "      <td>2.401591</td>\n",
       "      <td>4.025169</td>\n",
       "    </tr>\n",
       "    <tr>\n",
       "      <th>min</th>\n",
       "      <td>0.000000</td>\n",
       "      <td>0.000000</td>\n",
       "      <td>0.000000</td>\n",
       "      <td>0.000000</td>\n",
       "      <td>0.000000</td>\n",
       "      <td>0.000000</td>\n",
       "      <td>0.000000</td>\n",
       "      <td>0.000000</td>\n",
       "      <td>0.000000</td>\n",
       "      <td>0.000000</td>\n",
       "      <td>1.000000</td>\n",
       "      <td>1.000000</td>\n",
       "      <td>1.000000</td>\n",
       "      <td>1.000000</td>\n",
       "    </tr>\n",
       "    <tr>\n",
       "      <th>25%</th>\n",
       "      <td>0.000000</td>\n",
       "      <td>0.000000</td>\n",
       "      <td>0.000000</td>\n",
       "      <td>0.000000</td>\n",
       "      <td>7.000000</td>\n",
       "      <td>184.137500</td>\n",
       "      <td>0.000000</td>\n",
       "      <td>0.014286</td>\n",
       "      <td>0.000000</td>\n",
       "      <td>0.000000</td>\n",
       "      <td>2.000000</td>\n",
       "      <td>2.000000</td>\n",
       "      <td>1.000000</td>\n",
       "      <td>2.000000</td>\n",
       "    </tr>\n",
       "    <tr>\n",
       "      <th>50%</th>\n",
       "      <td>1.000000</td>\n",
       "      <td>7.500000</td>\n",
       "      <td>0.000000</td>\n",
       "      <td>0.000000</td>\n",
       "      <td>18.000000</td>\n",
       "      <td>598.936905</td>\n",
       "      <td>0.003112</td>\n",
       "      <td>0.025156</td>\n",
       "      <td>0.000000</td>\n",
       "      <td>0.000000</td>\n",
       "      <td>2.000000</td>\n",
       "      <td>2.000000</td>\n",
       "      <td>3.000000</td>\n",
       "      <td>2.000000</td>\n",
       "    </tr>\n",
       "    <tr>\n",
       "      <th>75%</th>\n",
       "      <td>4.000000</td>\n",
       "      <td>93.256250</td>\n",
       "      <td>0.000000</td>\n",
       "      <td>0.000000</td>\n",
       "      <td>38.000000</td>\n",
       "      <td>1464.157214</td>\n",
       "      <td>0.016813</td>\n",
       "      <td>0.050000</td>\n",
       "      <td>0.000000</td>\n",
       "      <td>0.000000</td>\n",
       "      <td>3.000000</td>\n",
       "      <td>2.000000</td>\n",
       "      <td>4.000000</td>\n",
       "      <td>4.000000</td>\n",
       "    </tr>\n",
       "    <tr>\n",
       "      <th>max</th>\n",
       "      <td>27.000000</td>\n",
       "      <td>3398.750000</td>\n",
       "      <td>24.000000</td>\n",
       "      <td>2549.375000</td>\n",
       "      <td>705.000000</td>\n",
       "      <td>63973.522230</td>\n",
       "      <td>0.200000</td>\n",
       "      <td>0.200000</td>\n",
       "      <td>361.763742</td>\n",
       "      <td>1.000000</td>\n",
       "      <td>8.000000</td>\n",
       "      <td>13.000000</td>\n",
       "      <td>9.000000</td>\n",
       "      <td>20.000000</td>\n",
       "    </tr>\n",
       "  </tbody>\n",
       "</table>\n",
       "</div>"
      ],
      "text/plain": [
       "       Administrative  Administrative_Duration  Informational  \\\n",
       "count    12330.000000             12330.000000   12330.000000   \n",
       "mean         2.315166                80.818611       0.503569   \n",
       "std          3.321784               176.779107       1.270156   \n",
       "min          0.000000                 0.000000       0.000000   \n",
       "25%          0.000000                 0.000000       0.000000   \n",
       "50%          1.000000                 7.500000       0.000000   \n",
       "75%          4.000000                93.256250       0.000000   \n",
       "max         27.000000              3398.750000      24.000000   \n",
       "\n",
       "       Informational_Duration  ProductRelated  ProductRelated_Duration  \\\n",
       "count            12330.000000    12330.000000             12330.000000   \n",
       "mean                34.472398       31.731468              1194.746220   \n",
       "std                140.749294       44.475503              1913.669288   \n",
       "min                  0.000000        0.000000                 0.000000   \n",
       "25%                  0.000000        7.000000               184.137500   \n",
       "50%                  0.000000       18.000000               598.936905   \n",
       "75%                  0.000000       38.000000              1464.157214   \n",
       "max               2549.375000      705.000000             63973.522230   \n",
       "\n",
       "        BounceRates     ExitRates    PageValues    SpecialDay  \\\n",
       "count  12330.000000  12330.000000  12330.000000  12330.000000   \n",
       "mean       0.022191      0.043073      5.889258      0.061427   \n",
       "std        0.048488      0.048597     18.568437      0.198917   \n",
       "min        0.000000      0.000000      0.000000      0.000000   \n",
       "25%        0.000000      0.014286      0.000000      0.000000   \n",
       "50%        0.003112      0.025156      0.000000      0.000000   \n",
       "75%        0.016813      0.050000      0.000000      0.000000   \n",
       "max        0.200000      0.200000    361.763742      1.000000   \n",
       "\n",
       "       OperatingSystems       Browser        Region   TrafficType  \n",
       "count      12330.000000  12330.000000  12330.000000  12330.000000  \n",
       "mean           2.124006      2.357097      3.147364      4.069586  \n",
       "std            0.911325      1.717277      2.401591      4.025169  \n",
       "min            1.000000      1.000000      1.000000      1.000000  \n",
       "25%            2.000000      2.000000      1.000000      2.000000  \n",
       "50%            2.000000      2.000000      3.000000      2.000000  \n",
       "75%            3.000000      2.000000      4.000000      4.000000  \n",
       "max            8.000000     13.000000      9.000000     20.000000  "
      ]
     },
     "execution_count": 7,
     "metadata": {},
     "output_type": "execute_result"
    }
   ],
   "source": [
    "df.describe()"
   ]
  },
  {
   "cell_type": "code",
   "execution_count": 112,
   "id": "5450461e",
   "metadata": {},
   "outputs": [
    {
     "data": {
      "text/html": [
       "<div>\n",
       "<style scoped>\n",
       "    .dataframe tbody tr th:only-of-type {\n",
       "        vertical-align: middle;\n",
       "    }\n",
       "\n",
       "    .dataframe tbody tr th {\n",
       "        vertical-align: top;\n",
       "    }\n",
       "\n",
       "    .dataframe thead th {\n",
       "        text-align: right;\n",
       "    }\n",
       "</style>\n",
       "<table border=\"1\" class=\"dataframe\">\n",
       "  <thead>\n",
       "    <tr style=\"text-align: right;\">\n",
       "      <th></th>\n",
       "      <th>Revenue</th>\n",
       "      <th>Administrative</th>\n",
       "      <th>Informational</th>\n",
       "      <th>ProductRelated</th>\n",
       "    </tr>\n",
       "  </thead>\n",
       "  <tbody>\n",
       "    <tr>\n",
       "      <th>0</th>\n",
       "      <td>False</td>\n",
       "      <td>2.12</td>\n",
       "      <td>0.45</td>\n",
       "      <td>28.71</td>\n",
       "    </tr>\n",
       "    <tr>\n",
       "      <th>1</th>\n",
       "      <td>True</td>\n",
       "      <td>3.39</td>\n",
       "      <td>0.79</td>\n",
       "      <td>48.21</td>\n",
       "    </tr>\n",
       "  </tbody>\n",
       "</table>\n",
       "</div>"
      ],
      "text/plain": [
       "   Revenue  Administrative  Informational  ProductRelated\n",
       "0    False            2.12           0.45           28.71\n",
       "1     True            3.39           0.79           48.21"
      ]
     },
     "execution_count": 112,
     "metadata": {},
     "output_type": "execute_result"
    }
   ],
   "source": [
    "# False, True = 10422, 1908\n",
    "df.groupby('Revenue').count()\n",
    "\n",
    "pv = df.groupby('Revenue')[['Administrative', 'Informational', 'ProductRelated']].mean().reset_index()\n",
    "\n",
    "pv = pv.round(2)\n",
    "\n",
    "pv"
   ]
  },
  {
   "cell_type": "code",
   "execution_count": 99,
   "id": "1f090ed1",
   "metadata": {},
   "outputs": [
    {
     "data": {
      "image/png": "[encoded data removed]",
      "text/plain": [
       "<Figure size 432x288 with 1 Axes>"
      ]
     },
     "metadata": {},
     "output_type": "display_data"
    }
   ],
   "source": [
    "labels = ['Admin', 'Info', 'Product']\n",
    "\n",
    "x = np.arange(len(labels))\n",
    "width = 0.35  # the width of the bars\n",
    "\n",
    "fig, ax = plt.subplots()\n",
    "rects1 = ax.bar(x - width/2, pv.loc[1][1:], width, color='#f9bc86',label='Purchaser', )\n",
    "rects2 = ax.bar(x + width/2, pv.loc[0][1:], width, color='#3caea3',label='Non Purchaser')\n",
    "\n",
    "# Add some text for labels, title and custom x-axis tick labels, etc.\n",
    "ax.set_ylabel('Scores')\n",
    "ax.set_title('Pageviews by category and Purchaser')\n",
    "ax.set_xticks(x)\n",
    "ax.set_xticklabels(labels)\n",
    "ax.legend()\n",
    "\n",
    "ax.bar_label(rects1, padding=3)\n",
    "ax.bar_label(rects2, padding=3)\n",
    "\n",
    "fig.tight_layout()\n",
    "\n",
    "plt.show()"
   ]
  },
  {
   "cell_type": "code",
   "execution_count": 18,
   "id": "fbff9ec7",
   "metadata": {},
   "outputs": [
    {
     "data": {
      "text/html": [
       "<div>\n",
       "<style scoped>\n",
       "    .dataframe tbody tr th:only-of-type {\n",
       "        vertical-align: middle;\n",
       "    }\n",
       "\n",
       "    .dataframe tbody tr th {\n",
       "        vertical-align: top;\n",
       "    }\n",
       "\n",
       "    .dataframe thead th {\n",
       "        text-align: right;\n",
       "    }\n",
       "</style>\n",
       "<table border=\"1\" class=\"dataframe\">\n",
       "  <thead>\n",
       "    <tr style=\"text-align: right;\">\n",
       "      <th></th>\n",
       "      <th>Revenue</th>\n",
       "      <th>Administrative_Duration</th>\n",
       "      <th>Informational_Duration</th>\n",
       "      <th>ProductRelated_Duration</th>\n",
       "    </tr>\n",
       "  </thead>\n",
       "  <tbody>\n",
       "    <tr>\n",
       "      <th>0</th>\n",
       "      <td>False</td>\n",
       "      <td>73.740111</td>\n",
       "      <td>30.236237</td>\n",
       "      <td>1069.987809</td>\n",
       "    </tr>\n",
       "    <tr>\n",
       "      <th>1</th>\n",
       "      <td>True</td>\n",
       "      <td>119.483244</td>\n",
       "      <td>57.611427</td>\n",
       "      <td>1876.209615</td>\n",
       "    </tr>\n",
       "  </tbody>\n",
       "</table>\n",
       "</div>"
      ],
      "text/plain": [
       "   Revenue  Administrative_Duration  Informational_Duration  \\\n",
       "0    False                73.740111               30.236237   \n",
       "1     True               119.483244               57.611427   \n",
       "\n",
       "   ProductRelated_Duration  \n",
       "0              1069.987809  \n",
       "1              1876.209615  "
      ]
     },
     "execution_count": 18,
     "metadata": {},
     "output_type": "execute_result"
    }
   ],
   "source": [
    "# do not use, did not remove outliers\n",
    "sl = df.groupby('Revenue')[['Administrative_Duration', 'Informational_Duration', 'ProductRelated_Duration']].mean().reset_index()\n",
    "\n",
    "sl"
   ]
  },
  {
   "cell_type": "code",
   "execution_count": 68,
   "id": "4783c23a",
   "metadata": {},
   "outputs": [
    {
     "data": {
      "image/png": "[encoded data removed]",
      "text/plain": [
       "<Figure size 432x288 with 1 Axes>"
      ]
     },
     "metadata": {},
     "output_type": "display_data"
    }
   ],
   "source": [
    "# remove outliers (2 std from the mean)\n",
    "AdmD = df[df.Administrative_Duration <= 434.38]\n",
    "\n",
    "# set a grey background\n",
    "sns.set(style=\"darkgrid\")\n",
    "\n",
    "#fig,ax = plt.subplots(figsize=(4,5))\n",
    "\n",
    "# Grouped violinplot\n",
    "ax = sns.violinplot(x=\"Revenue\", y='Administrative_Duration', hue=\"Revenue\", data=AdmD, palette=\"Set2\")\n",
    "ax.set_title('Admin Pages Duration')\n",
    "\n",
    "plt.show()"
   ]
  },
  {
   "cell_type": "code",
   "execution_count": 106,
   "id": "bc1b8060",
   "metadata": {},
   "outputs": [
    {
     "data": {
      "text/plain": [
       "Revenue\n",
       "False    50.843398\n",
       "True     80.659484\n",
       "Name: Administrative_Duration, dtype: float64"
      ]
     },
     "execution_count": 106,
     "metadata": {},
     "output_type": "execute_result"
    }
   ],
   "source": [
    "AdmD.groupby('Revenue')['Administrative_Duration'].mean()"
   ]
  },
  {
   "cell_type": "code",
   "execution_count": 94,
   "id": "5ced998e",
   "metadata": {},
   "outputs": [
    {
     "data": {
      "image/png": "[encoded data removed]",
      "text/plain": [
       "<Figure size 432x288 with 1 Axes>"
      ]
     },
     "metadata": {},
     "output_type": "display_data"
    }
   ],
   "source": [
    "# remove outliers (2 std from the mean)\n",
    "InfoD = df[df.Informational_Duration <= 315.97]\n",
    "# set a grey background\n",
    "sns.set(style=\"darkgrid\")\n",
    "\n",
    "\n",
    "# Grouped violinplot\n",
    "ax = sns.violinplot(x=\"Revenue\", y='Informational_Duration', hue=\"Revenue\", data=InfoD, palette=\"Set2\")\n",
    "ax.set_title('Info Pages Duration')\n",
    "plt.show()"
   ]
  },
  {
   "cell_type": "code",
   "execution_count": 60,
   "id": "be04ac54",
   "metadata": {},
   "outputs": [
    {
     "data": {
      "image/png": "[encoded data removed]",
      "text/plain": [
       "<Figure size 432x288 with 1 Axes>"
      ]
     },
     "metadata": {},
     "output_type": "display_data"
    }
   ],
   "source": [
    "# remove outliers (2 std from the mean)\n",
    "ProdD = df[df.ProductRelated_Duration <= 5022.09]\n",
    "\n",
    "# set a grey background\n",
    "sns.set(style=\"darkgrid\")\n",
    "\n",
    "\n",
    "# Grouped violinplot\n",
    "ax = sns.violinplot(x=\"Revenue\", y='ProductRelated_Duration', hue=\"Revenue\", data=ProdD, palette=\"Set2\")\n",
    "ax.set_title('Product Related Pages Duration')\n",
    "plt.show()"
   ]
  },
  {
   "cell_type": "code",
   "execution_count": 72,
   "id": "4ea0a43e",
   "metadata": {},
   "outputs": [
    {
     "data": {
      "image/png": "[encoded data removed]",
      "text/plain": [
       "<Figure size 432x288 with 1 Axes>"
      ]
     },
     "metadata": {},
     "output_type": "display_data"
    }
   ],
   "source": [
    "# Bounce Rates\n",
    "\n",
    "# set a grey background\n",
    "sns.set(style=\"darkgrid\")\n",
    "\n",
    "\n",
    "# Grouped violinplot\n",
    "ax = sns.violinplot(x=\"Revenue\", y='BounceRates', hue=\"Revenue\", data=df, palette=\"Set2\")\n",
    "ax.set_title('Bounce Rates')\n",
    "plt.show()"
   ]
  },
  {
   "cell_type": "code",
   "execution_count": 71,
   "id": "5720afb0",
   "metadata": {},
   "outputs": [
    {
     "data": {
      "image/png": "[encoded data removed]",
      "text/plain": [
       "<Figure size 432x288 with 1 Axes>"
      ]
     },
     "metadata": {},
     "output_type": "display_data"
    }
   ],
   "source": [
    "# ExitRates\n",
    "\n",
    "# set a grey background\n",
    "sns.set(style=\"darkgrid\")\n",
    "\n",
    "\n",
    "# Grouped violinplot\n",
    "ax = sns.violinplot(x=\"Revenue\", y='ExitRates', hue=\"Revenue\", data=df, palette=\"Set2\")\n",
    "ax.set_title('Exit Rates')\n",
    "plt.show()"
   ]
  },
  {
   "cell_type": "code",
   "execution_count": 101,
   "id": "8a9853b4",
   "metadata": {},
   "outputs": [
    {
     "data": {
      "image/png": "[encoded data removed]",
      "text/plain": [
       "<Figure size 432x288 with 1 Axes>"
      ]
     },
     "metadata": {},
     "output_type": "display_data"
    }
   ],
   "source": [
    "# Page Values\n",
    "PageV = df[df.PageValues <= 43.03]\n",
    "# set a grey background\n",
    "sns.set(style=\"darkgrid\")\n",
    "\n",
    "\n",
    "# Grouped violinplot\n",
    "ax = sns.violinplot(x=\"Revenue\", y='PageValues', hue=\"Revenue\", data=PageV, palette=\"Set2\")\n",
    "ax.set_title('Page Values')\n",
    "plt.show()"
   ]
  },
  {
   "cell_type": "code",
   "execution_count": 107,
   "id": "317c0e0b",
   "metadata": {},
   "outputs": [
    {
     "data": {
      "text/plain": [
       "Revenue\n",
       "False     1.320014\n",
       "True     13.252449\n",
       "Name: PageValues, dtype: float64"
      ]
     },
     "execution_count": 107,
     "metadata": {},
     "output_type": "execute_result"
    }
   ],
   "source": [
    "PageV.groupby('Revenue')['PageValues'].mean()"
   ]
  },
  {
   "cell_type": "code",
   "execution_count": 103,
   "id": "f9d16289",
   "metadata": {},
   "outputs": [
    {
     "data": {
      "text/plain": [
       "count    10422.000000\n",
       "mean         1.975998\n",
       "std          9.072424\n",
       "min          0.000000\n",
       "25%          0.000000\n",
       "50%          0.000000\n",
       "75%          0.000000\n",
       "max        246.758590\n",
       "Name: PageValues, dtype: float64"
      ]
     },
     "execution_count": 103,
     "metadata": {},
     "output_type": "execute_result"
    }
   ],
   "source": [
    "df[df.Revenue == False]['PageValues'].describe()"
   ]
  },
  {
   "cell_type": "code",
   "execution_count": 100,
   "id": "264d6dd5",
   "metadata": {},
   "outputs": [
    {
     "data": {
      "image/png": "[encoded data removed]",
      "text/plain": [
       "<Figure size 432x288 with 1 Axes>"
      ]
     },
     "metadata": {},
     "output_type": "display_data"
    }
   ],
   "source": [
    "# Special day\n",
    "\n",
    "# set a grey background\n",
    "sns.set(style=\"darkgrid\")\n",
    "\n",
    "\n",
    "# Grouped violinplot\n",
    "ax = sns.violinplot(x=\"Revenue\", y='SpecialDay', hue=\"Revenue\", data=df, palette=\"Set2\")\n",
    "ax.set_title('Special Day')\n",
    "plt.show()"
   ]
  },
  {
   "cell_type": "code",
   "execution_count": 19,
   "id": "43ec532c",
   "metadata": {},
   "outputs": [
    {
     "data": {
      "text/html": [
       "<div>\n",
       "<style scoped>\n",
       "    .dataframe tbody tr th:only-of-type {\n",
       "        vertical-align: middle;\n",
       "    }\n",
       "\n",
       "    .dataframe tbody tr th {\n",
       "        vertical-align: top;\n",
       "    }\n",
       "\n",
       "    .dataframe thead th {\n",
       "        text-align: right;\n",
       "    }\n",
       "</style>\n",
       "<table border=\"1\" class=\"dataframe\">\n",
       "  <thead>\n",
       "    <tr style=\"text-align: right;\">\n",
       "      <th></th>\n",
       "      <th>BounceRates</th>\n",
       "      <th>ExitRates</th>\n",
       "      <th>PageValues</th>\n",
       "      <th>SpecialDay</th>\n",
       "    </tr>\n",
       "    <tr>\n",
       "      <th>Revenue</th>\n",
       "      <th></th>\n",
       "      <th></th>\n",
       "      <th></th>\n",
       "      <th></th>\n",
       "    </tr>\n",
       "  </thead>\n",
       "  <tbody>\n",
       "    <tr>\n",
       "      <th>False</th>\n",
       "      <td>0.025317</td>\n",
       "      <td>0.047378</td>\n",
       "      <td>1.975998</td>\n",
       "      <td>0.068432</td>\n",
       "    </tr>\n",
       "    <tr>\n",
       "      <th>True</th>\n",
       "      <td>0.005117</td>\n",
       "      <td>0.019555</td>\n",
       "      <td>27.264518</td>\n",
       "      <td>0.023166</td>\n",
       "    </tr>\n",
       "  </tbody>\n",
       "</table>\n",
       "</div>"
      ],
      "text/plain": [
       "         BounceRates  ExitRates  PageValues  SpecialDay\n",
       "Revenue                                                \n",
       "False       0.025317   0.047378    1.975998    0.068432\n",
       "True        0.005117   0.019555   27.264518    0.023166"
      ]
     },
     "execution_count": 19,
     "metadata": {},
     "output_type": "execute_result"
    }
   ],
   "source": [
    "# BounceRates refers to the percentage of visitors who enter the site from that page and then leave (\"bounce\") \n",
    "#   without triggering any other requests to the analytics server during that session.\n",
    "# ExitRates refers to for all pageviews to the page, the percentage that were the last in the session.\n",
    "# PageValues represents the average value for a web page that a user visited before completing a transaction.\n",
    "# SpecialDay indicates the closeness of the site visiting time to a specific special day (e.g. Mother’s Day) \n",
    "#   in which the sessions are more likely to be finalized with transaction. \n",
    "\n",
    "df.groupby('Revenue')[['BounceRates', 'ExitRates','PageValues','SpecialDay']].mean()"
   ]
  },
  {
   "cell_type": "code",
   "execution_count": 21,
   "id": "5df0fe4c",
   "metadata": {},
   "outputs": [
    {
     "data": {
      "text/html": [
       "<div>\n",
       "<style scoped>\n",
       "    .dataframe tbody tr th:only-of-type {\n",
       "        vertical-align: middle;\n",
       "    }\n",
       "\n",
       "    .dataframe tbody tr th {\n",
       "        vertical-align: top;\n",
       "    }\n",
       "\n",
       "    .dataframe thead th {\n",
       "        text-align: right;\n",
       "    }\n",
       "</style>\n",
       "<table border=\"1\" class=\"dataframe\">\n",
       "  <thead>\n",
       "    <tr style=\"text-align: right;\">\n",
       "      <th></th>\n",
       "      <th>OperatingSystems</th>\n",
       "      <th>Browser</th>\n",
       "      <th>Region</th>\n",
       "      <th>TrafficType</th>\n",
       "    </tr>\n",
       "    <tr>\n",
       "      <th>Revenue</th>\n",
       "      <th></th>\n",
       "      <th></th>\n",
       "      <th></th>\n",
       "      <th></th>\n",
       "    </tr>\n",
       "  </thead>\n",
       "  <tbody>\n",
       "    <tr>\n",
       "      <th>False</th>\n",
       "      <td>2.129726</td>\n",
       "      <td>2.339474</td>\n",
       "      <td>3.159278</td>\n",
       "      <td>4.078392</td>\n",
       "    </tr>\n",
       "    <tr>\n",
       "      <th>True</th>\n",
       "      <td>2.092767</td>\n",
       "      <td>2.453354</td>\n",
       "      <td>3.082285</td>\n",
       "      <td>4.021488</td>\n",
       "    </tr>\n",
       "  </tbody>\n",
       "</table>\n",
       "</div>"
      ],
      "text/plain": [
       "         OperatingSystems   Browser    Region  TrafficType\n",
       "Revenue                                                   \n",
       "False            2.129726  2.339474  3.159278     4.078392\n",
       "True             2.092767  2.453354  3.082285     4.021488"
      ]
     },
     "execution_count": 21,
     "metadata": {},
     "output_type": "execute_result"
    }
   ],
   "source": [
    "# Features I don't think really matter, but nice to check.\n",
    "\n",
    "df.groupby('Revenue')[['OperatingSystems', 'Browser','Region','TrafficType']].mean()"
   ]
  },
  {
   "cell_type": "code",
   "execution_count": 23,
   "id": "ceddf34d",
   "metadata": {},
   "outputs": [
    {
     "data": {
      "text/html": [
       "<div>\n",
       "<style scoped>\n",
       "    .dataframe tbody tr th:only-of-type {\n",
       "        vertical-align: middle;\n",
       "    }\n",
       "\n",
       "    .dataframe tbody tr th {\n",
       "        vertical-align: top;\n",
       "    }\n",
       "\n",
       "    .dataframe thead th {\n",
       "        text-align: right;\n",
       "    }\n",
       "</style>\n",
       "<table border=\"1\" class=\"dataframe\">\n",
       "  <thead>\n",
       "    <tr style=\"text-align: right;\">\n",
       "      <th>Revenue</th>\n",
       "      <th>Month</th>\n",
       "      <th>False</th>\n",
       "      <th>True</th>\n",
       "    </tr>\n",
       "  </thead>\n",
       "  <tbody>\n",
       "    <tr>\n",
       "      <th>2</th>\n",
       "      <td>Feb</td>\n",
       "      <td>181</td>\n",
       "      <td>3</td>\n",
       "    </tr>\n",
       "    <tr>\n",
       "      <th>5</th>\n",
       "      <td>Mar</td>\n",
       "      <td>1715</td>\n",
       "      <td>192</td>\n",
       "    </tr>\n",
       "    <tr>\n",
       "      <th>6</th>\n",
       "      <td>May</td>\n",
       "      <td>2999</td>\n",
       "      <td>365</td>\n",
       "    </tr>\n",
       "    <tr>\n",
       "      <th>4</th>\n",
       "      <td>June</td>\n",
       "      <td>259</td>\n",
       "      <td>29</td>\n",
       "    </tr>\n",
       "    <tr>\n",
       "      <th>3</th>\n",
       "      <td>Jul</td>\n",
       "      <td>366</td>\n",
       "      <td>66</td>\n",
       "    </tr>\n",
       "    <tr>\n",
       "      <th>0</th>\n",
       "      <td>Aug</td>\n",
       "      <td>357</td>\n",
       "      <td>76</td>\n",
       "    </tr>\n",
       "    <tr>\n",
       "      <th>9</th>\n",
       "      <td>Sep</td>\n",
       "      <td>362</td>\n",
       "      <td>86</td>\n",
       "    </tr>\n",
       "    <tr>\n",
       "      <th>8</th>\n",
       "      <td>Oct</td>\n",
       "      <td>434</td>\n",
       "      <td>115</td>\n",
       "    </tr>\n",
       "    <tr>\n",
       "      <th>7</th>\n",
       "      <td>Nov</td>\n",
       "      <td>2238</td>\n",
       "      <td>760</td>\n",
       "    </tr>\n",
       "    <tr>\n",
       "      <th>1</th>\n",
       "      <td>Dec</td>\n",
       "      <td>1511</td>\n",
       "      <td>216</td>\n",
       "    </tr>\n",
       "  </tbody>\n",
       "</table>\n",
       "</div>"
      ],
      "text/plain": [
       "Revenue Month  False  True\n",
       "2         Feb    181     3\n",
       "5         Mar   1715   192\n",
       "6         May   2999   365\n",
       "4        June    259    29\n",
       "3         Jul    366    66\n",
       "0         Aug    357    76\n",
       "9         Sep    362    86\n",
       "8         Oct    434   115\n",
       "7         Nov   2238   760\n",
       "1         Dec   1511   216"
      ]
     },
     "execution_count": 23,
     "metadata": {},
     "output_type": "execute_result"
    }
   ],
   "source": [
    "# Month\n",
    "\n",
    "Pur_Mon = df.groupby('Month')['Revenue'].value_counts().unstack().reset_index()\n",
    "months = [\"Jan\", \"Feb\", \"Mar\", \"Apr\", \"May\", \"June\", \"Jul\", \"Aug\", \"Sep\", \"Oct\", \"Nov\", \"Dec\"]\n",
    "Pur_Mon['Month'] = pd.Categorical(Pur_Mon['Month'], categories=months, ordered=True)\n",
    "Pur_Mon.sort_values(by='Month',inplace=True)\n",
    "Pur_Mon"
   ]
  },
  {
   "cell_type": "code",
   "execution_count": 76,
   "id": "8206cbfc",
   "metadata": {},
   "outputs": [
    {
     "data": {
      "text/plain": [
       "Text(0, 0.5, '# of vistors')"
      ]
     },
     "execution_count": 76,
     "metadata": {},
     "output_type": "execute_result"
    },
    {
     "data": {
      "image/png": "[encoded data removed]",
      "text/plain": [
       "<Figure size 432x288 with 1 Axes>"
      ]
     },
     "metadata": {},
     "output_type": "display_data"
    }
   ],
   "source": [
    "# Line chart\n",
    "\n",
    "fig, ax = plt.subplots()\n",
    "ax.plot(Pur_Mon['Month'],Pur_Mon[0], color='#3caea3', marker='o', label=\"Non Purchaser\")\n",
    "ax.plot(Pur_Mon['Month'],Pur_Mon[1], color='#f9bc86', marker='o',label=\"Purchaser\")\n",
    "ax.legend()\n",
    "ax.set_title('Purchase pattern - Months')\n",
    "ax.set_xlabel('Months')\n",
    "ax.set_ylabel('# of vistors')"
   ]
  },
  {
   "cell_type": "code",
   "execution_count": 26,
   "id": "4183afb4",
   "metadata": {},
   "outputs": [
    {
     "name": "stdout",
     "output_type": "stream",
     "text": [
      "Revenue  Weekend  False  True     Pct_F     Pct_T\n",
      "0          False   8053  1409  0.851089  0.148911\n",
      "1           True   2369   499  0.826011  0.173989\n"
     ]
    }
   ],
   "source": [
    "# weekend\n",
    "\n",
    "WE_pct = df.groupby('Weekend')['Revenue'].value_counts().unstack(fill_value=0).reset_index()\n",
    "WE_pct['Pct_F'] = WE_pct[False]/(WE_pct[False] + WE_pct[True])\n",
    "WE_pct['Pct_T'] = 1 - WE_pct['Pct_F']\n",
    "print(WE_pct)"
   ]
  },
  {
   "cell_type": "code",
   "execution_count": 77,
   "id": "bada7c11",
   "metadata": {},
   "outputs": [
    {
     "data": {
      "text/plain": [
       "Text(0.95, 0.2, '17.4%')"
      ]
     },
     "execution_count": 77,
     "metadata": {},
     "output_type": "execute_result"
    },
    {
     "data": {
      "image/png": "[encoded data removed]",
      "text/plain": [
       "<Figure size 432x288 with 1 Axes>"
      ]
     },
     "metadata": {},
     "output_type": "display_data"
    }
   ],
   "source": [
    "blueBars = WE_pct['Pct_T']\n",
    "orangeBars = WE_pct['Pct_F']\n",
    "\n",
    "barWidth = 0.5\n",
    "names = ('Week day', 'Weekend')\n",
    "# Create green Bars\n",
    "plt.bar(WE_pct['Weekend'],blueBars, color='#f9bc86', edgecolor='white', width=barWidth, label=\"Purchaser\")\n",
    "# Create orange Bars\n",
    "plt.bar(WE_pct['Weekend'], orangeBars, bottom=blueBars, color='#3caea3', edgecolor='white', width=barWidth, label=\"None Purchaser\")\n",
    "\n",
    "\n",
    "# Plot format\n",
    "plt.title('Purchase pattern - Week day vs. Weekend')\n",
    "plt.legend()\n",
    "plt.xlabel(\"Week day vs. Weekend\")\n",
    "plt.ylabel(\"Pct.\")\n",
    "plt.xticks(WE_pct['Weekend'], names)\n",
    "\n",
    "str_1 = str(round(WE_pct['Pct_T'][0] * 100, 2)) + '%'\n",
    "str_2 = str(round(WE_pct['Pct_T'][1] * 100, 2)) + '%'\n",
    "plt.text(-0.06, 0.2, str_1, fontsize=10)\n",
    "plt.text(0.95, 0.2, str_2, fontsize=10)"
   ]
  },
  {
   "cell_type": "code",
   "execution_count": 30,
   "id": "0d05a28c",
   "metadata": {},
   "outputs": [
    {
     "data": {
      "text/plain": [
       "Revenue  VisitorType      \n",
       "False    New_Visitor          1272\n",
       "         Other                  69\n",
       "         Returning_Visitor    9081\n",
       "True     New_Visitor           422\n",
       "         Other                  16\n",
       "         Returning_Visitor    1470\n",
       "Name: Revenue, dtype: int64"
      ]
     },
     "execution_count": 30,
     "metadata": {},
     "output_type": "execute_result"
    }
   ],
   "source": [
    "# 12.2%\n",
    "# 0.7%\n",
    "# 87.1% -- Returning_Visitor\n",
    "# 22.1%\n",
    "# 0.8%\n",
    "# 77.0% -- Returning_Visitor\n",
    "df.groupby(['Revenue','VisitorType'])['Revenue'].count()"
   ]
  },
  {
   "cell_type": "code",
   "execution_count": 31,
   "id": "ebd5272e",
   "metadata": {},
   "outputs": [
    {
     "data": {
      "text/html": [
       "<div>\n",
       "<style scoped>\n",
       "    .dataframe tbody tr th:only-of-type {\n",
       "        vertical-align: middle;\n",
       "    }\n",
       "\n",
       "    .dataframe tbody tr th {\n",
       "        vertical-align: top;\n",
       "    }\n",
       "\n",
       "    .dataframe thead th {\n",
       "        text-align: right;\n",
       "    }\n",
       "</style>\n",
       "<table border=\"1\" class=\"dataframe\">\n",
       "  <thead>\n",
       "    <tr style=\"text-align: right;\">\n",
       "      <th></th>\n",
       "      <th>Administrative</th>\n",
       "      <th>Administrative_Duration</th>\n",
       "      <th>Informational</th>\n",
       "      <th>Informational_Duration</th>\n",
       "      <th>ProductRelated</th>\n",
       "      <th>ProductRelated_Duration</th>\n",
       "      <th>BounceRates</th>\n",
       "      <th>ExitRates</th>\n",
       "      <th>PageValues</th>\n",
       "      <th>SpecialDay</th>\n",
       "      <th>...</th>\n",
       "      <th>OperatingSystems</th>\n",
       "      <th>Browser</th>\n",
       "      <th>Region</th>\n",
       "      <th>TrafficType</th>\n",
       "      <th>VisitorType</th>\n",
       "      <th>Weekend</th>\n",
       "      <th>Revenue</th>\n",
       "      <th>ProductBuck</th>\n",
       "      <th>AdminBuck</th>\n",
       "      <th>InfoBuck</th>\n",
       "    </tr>\n",
       "  </thead>\n",
       "  <tbody>\n",
       "    <tr>\n",
       "      <th>0</th>\n",
       "      <td>0</td>\n",
       "      <td>0.0</td>\n",
       "      <td>0</td>\n",
       "      <td>0.0</td>\n",
       "      <td>1</td>\n",
       "      <td>0.000000</td>\n",
       "      <td>0.20</td>\n",
       "      <td>0.20</td>\n",
       "      <td>0.0</td>\n",
       "      <td>0.0</td>\n",
       "      <td>...</td>\n",
       "      <td>1</td>\n",
       "      <td>1</td>\n",
       "      <td>1</td>\n",
       "      <td>1</td>\n",
       "      <td>Returning_Visitor</td>\n",
       "      <td>False</td>\n",
       "      <td>False</td>\n",
       "      <td>&lt;=20</td>\n",
       "      <td>&lt;=5</td>\n",
       "      <td>&lt;=5</td>\n",
       "    </tr>\n",
       "    <tr>\n",
       "      <th>1</th>\n",
       "      <td>0</td>\n",
       "      <td>0.0</td>\n",
       "      <td>0</td>\n",
       "      <td>0.0</td>\n",
       "      <td>2</td>\n",
       "      <td>64.000000</td>\n",
       "      <td>0.00</td>\n",
       "      <td>0.10</td>\n",
       "      <td>0.0</td>\n",
       "      <td>0.0</td>\n",
       "      <td>...</td>\n",
       "      <td>2</td>\n",
       "      <td>2</td>\n",
       "      <td>1</td>\n",
       "      <td>2</td>\n",
       "      <td>Returning_Visitor</td>\n",
       "      <td>False</td>\n",
       "      <td>False</td>\n",
       "      <td>&lt;=20</td>\n",
       "      <td>&lt;=5</td>\n",
       "      <td>&lt;=5</td>\n",
       "    </tr>\n",
       "    <tr>\n",
       "      <th>2</th>\n",
       "      <td>0</td>\n",
       "      <td>0.0</td>\n",
       "      <td>0</td>\n",
       "      <td>0.0</td>\n",
       "      <td>1</td>\n",
       "      <td>0.000000</td>\n",
       "      <td>0.20</td>\n",
       "      <td>0.20</td>\n",
       "      <td>0.0</td>\n",
       "      <td>0.0</td>\n",
       "      <td>...</td>\n",
       "      <td>4</td>\n",
       "      <td>1</td>\n",
       "      <td>9</td>\n",
       "      <td>3</td>\n",
       "      <td>Returning_Visitor</td>\n",
       "      <td>False</td>\n",
       "      <td>False</td>\n",
       "      <td>&lt;=20</td>\n",
       "      <td>&lt;=5</td>\n",
       "      <td>&lt;=5</td>\n",
       "    </tr>\n",
       "    <tr>\n",
       "      <th>3</th>\n",
       "      <td>0</td>\n",
       "      <td>0.0</td>\n",
       "      <td>0</td>\n",
       "      <td>0.0</td>\n",
       "      <td>2</td>\n",
       "      <td>2.666667</td>\n",
       "      <td>0.05</td>\n",
       "      <td>0.14</td>\n",
       "      <td>0.0</td>\n",
       "      <td>0.0</td>\n",
       "      <td>...</td>\n",
       "      <td>3</td>\n",
       "      <td>2</td>\n",
       "      <td>2</td>\n",
       "      <td>4</td>\n",
       "      <td>Returning_Visitor</td>\n",
       "      <td>False</td>\n",
       "      <td>False</td>\n",
       "      <td>&lt;=20</td>\n",
       "      <td>&lt;=5</td>\n",
       "      <td>&lt;=5</td>\n",
       "    </tr>\n",
       "    <tr>\n",
       "      <th>4</th>\n",
       "      <td>0</td>\n",
       "      <td>0.0</td>\n",
       "      <td>0</td>\n",
       "      <td>0.0</td>\n",
       "      <td>10</td>\n",
       "      <td>627.500000</td>\n",
       "      <td>0.02</td>\n",
       "      <td>0.05</td>\n",
       "      <td>0.0</td>\n",
       "      <td>0.0</td>\n",
       "      <td>...</td>\n",
       "      <td>3</td>\n",
       "      <td>3</td>\n",
       "      <td>1</td>\n",
       "      <td>4</td>\n",
       "      <td>Returning_Visitor</td>\n",
       "      <td>True</td>\n",
       "      <td>False</td>\n",
       "      <td>&lt;=20</td>\n",
       "      <td>&lt;=5</td>\n",
       "      <td>&lt;=5</td>\n",
       "    </tr>\n",
       "  </tbody>\n",
       "</table>\n",
       "<p>5 rows × 21 columns</p>\n",
       "</div>"
      ],
      "text/plain": [
       "   Administrative  Administrative_Duration  Informational  \\\n",
       "0               0                      0.0              0   \n",
       "1               0                      0.0              0   \n",
       "2               0                      0.0              0   \n",
       "3               0                      0.0              0   \n",
       "4               0                      0.0              0   \n",
       "\n",
       "   Informational_Duration  ProductRelated  ProductRelated_Duration  \\\n",
       "0                     0.0               1                 0.000000   \n",
       "1                     0.0               2                64.000000   \n",
       "2                     0.0               1                 0.000000   \n",
       "3                     0.0               2                 2.666667   \n",
       "4                     0.0              10               627.500000   \n",
       "\n",
       "   BounceRates  ExitRates  PageValues  SpecialDay  ... OperatingSystems  \\\n",
       "0         0.20       0.20         0.0         0.0  ...                1   \n",
       "1         0.00       0.10         0.0         0.0  ...                2   \n",
       "2         0.20       0.20         0.0         0.0  ...                4   \n",
       "3         0.05       0.14         0.0         0.0  ...                3   \n",
       "4         0.02       0.05         0.0         0.0  ...                3   \n",
       "\n",
       "   Browser  Region  TrafficType        VisitorType Weekend  Revenue  \\\n",
       "0        1       1            1  Returning_Visitor   False    False   \n",
       "1        2       1            2  Returning_Visitor   False    False   \n",
       "2        1       9            3  Returning_Visitor   False    False   \n",
       "3        2       2            4  Returning_Visitor   False    False   \n",
       "4        3       1            4  Returning_Visitor    True    False   \n",
       "\n",
       "   ProductBuck AdminBuck InfoBuck  \n",
       "0         <=20       <=5      <=5  \n",
       "1         <=20       <=5      <=5  \n",
       "2         <=20       <=5      <=5  \n",
       "3         <=20       <=5      <=5  \n",
       "4         <=20       <=5      <=5  \n",
       "\n",
       "[5 rows x 21 columns]"
      ]
     },
     "execution_count": 31,
     "metadata": {},
     "output_type": "execute_result"
    }
   ],
   "source": [
    "# pageview buckets\n",
    "df['ProductBuck'] = pd.cut(df.ProductRelated, [-np.inf, 20, 40, 60, 80, 100, np.inf],\n",
    "                              labels=['<=20', '<=40', '<=60', '<=80',\n",
    "                                      '<=100', '>100'])\n",
    "\n",
    "# other pages buckets\n",
    "df['AdminBuck'] = pd.cut(df.Administrative, [-np.inf, 5, 10, 15, 20, 25, np.inf],\n",
    "                              labels=['<=5', '<=10', '<=15', '<=20',\n",
    "                                      '<=25', '>25'])\n",
    "\n",
    "df['InfoBuck'] = pd.cut(df.Informational, [-np.inf, 5, 10, 15, 20, np.inf],\n",
    "                              labels=['<=5', '<=10', '<=15', '<=20', '>20'])\n",
    "df.head()"
   ]
  },
  {
   "cell_type": "code",
   "execution_count": 32,
   "id": "c4c86167",
   "metadata": {},
   "outputs": [
    {
     "name": "stdout",
     "output_type": "stream",
     "text": [
      "Revenue ProductBuck  False  True     Pct_F     Pct_T\n",
      "0              <=20   6054   679  0.899153  0.100847\n",
      "1              <=40   2215   545  0.802536  0.197464\n",
      "2              <=60    916   244  0.789655  0.210345\n",
      "3              <=80    466   123  0.791171  0.208829\n",
      "4             <=100    277    88  0.758904  0.241096\n",
      "5              >100    494   229  0.683264  0.316736\n"
     ]
    }
   ],
   "source": [
    "# Product pageviews\n",
    "Prod_pct = df.groupby('ProductBuck')['Revenue'].value_counts().unstack(fill_value=0).reset_index()\n",
    "Prod_pct['Pct_F'] = Prod_pct[False]/(Prod_pct[False] + Prod_pct[True])\n",
    "Prod_pct['Pct_T'] = 1 - Prod_pct['Pct_F']\n",
    "print(Prod_pct)"
   ]
  },
  {
   "cell_type": "code",
   "execution_count": 78,
   "id": "a1fcedff",
   "metadata": {},
   "outputs": [
    {
     "data": {
      "text/plain": [
       "Text(0, 0.5, 'Pct.')"
      ]
     },
     "execution_count": 78,
     "metadata": {},
     "output_type": "execute_result"
    },
    {
     "data": {
      "image/png": "[encoded data removed]",
      "text/plain": [
       "<Figure size 432x288 with 1 Axes>"
      ]
     },
     "metadata": {},
     "output_type": "display_data"
    }
   ],
   "source": [
    "# percentage stacked bar chart\n",
    "\n",
    "blueBars = Prod_pct['Pct_T']\n",
    "orangeBars = Prod_pct['Pct_F']\n",
    "\n",
    "barWidth = 0.85\n",
    "names = Prod_pct['ProductBuck']\n",
    "# Create green Bars\n",
    "plt.bar(Prod_pct['ProductBuck'],blueBars, color='#f9bc86', edgecolor='white', width=barWidth, label=\"Purchaser\")\n",
    "# Create orange Bars\n",
    "plt.bar(Prod_pct['ProductBuck'], orangeBars, bottom=blueBars, color='#3caea3', edgecolor='white', width=barWidth, label=\"None Purchaser\")\n",
    "\n",
    "\n",
    "# Plot format\n",
    "plt.title('Comparison by product related pageviews')\n",
    "plt.legend(loc='upper left', bbox_to_anchor=(1,1), ncol=1)\n",
    "plt.xlabel(\"Buckets\")\n",
    "plt.ylabel(\"Pct.\")"
   ]
  },
  {
   "cell_type": "code",
   "execution_count": 34,
   "id": "03288529",
   "metadata": {},
   "outputs": [
    {
     "name": "stdout",
     "output_type": "stream",
     "text": [
      "Revenue AdminBuck  False  True     Pct_F     Pct_T\n",
      "0             <=5   9036  1455  0.861310  0.138690\n",
      "1            <=10   1092   343  0.760976  0.239024\n",
      "2            <=15    238    91  0.723404  0.276596\n",
      "3            <=20     44    16  0.733333  0.266667\n",
      "4            <=25     11     2  0.846154  0.153846\n",
      "5             >25      1     1  0.500000  0.500000\n"
     ]
    }
   ],
   "source": [
    "# Admin pageviews\n",
    "Adm_pct = df.groupby('AdminBuck')['Revenue'].value_counts().unstack(fill_value=0).reset_index()\n",
    "Adm_pct['Pct_F'] = Adm_pct[False]/(Adm_pct[False] + Adm_pct[True])\n",
    "Adm_pct['Pct_T'] = 1 - Adm_pct['Pct_F']\n",
    "print(Adm_pct)"
   ]
  },
  {
   "cell_type": "code",
   "execution_count": 79,
   "id": "02eadd48",
   "metadata": {},
   "outputs": [
    {
     "data": {
      "text/plain": [
       "Text(0, 0.5, 'Pct.')"
      ]
     },
     "execution_count": 79,
     "metadata": {},
     "output_type": "execute_result"
    },
    {
     "data": {
      "image/png": "[encoded data removed]",
      "text/plain": [
       "<Figure size 432x288 with 1 Axes>"
      ]
     },
     "metadata": {},
     "output_type": "display_data"
    }
   ],
   "source": [
    "# percentage stacked bar chart\n",
    "\n",
    "blueBars = Adm_pct['Pct_T']\n",
    "orangeBars = Adm_pct['Pct_F']\n",
    "\n",
    "barWidth = 0.85\n",
    "names = Adm_pct['AdminBuck']\n",
    "# Create green Bars\n",
    "plt.bar(Adm_pct['AdminBuck'],blueBars, color='#f9bc86', edgecolor='white', width=barWidth, label=\"Purchaser\")\n",
    "# Create orange Bars\n",
    "plt.bar(Adm_pct['AdminBuck'], orangeBars, bottom=blueBars, color='#3caea3', edgecolor='white', width=barWidth, label=\"None Purchaser\")\n",
    "\n",
    "\n",
    "# Plot format\n",
    "plt.title('Comparison by Admin pageviews')\n",
    "plt.legend(loc='upper left', bbox_to_anchor=(1,1), ncol=1)\n",
    "plt.xlabel(\"Buckets\")\n",
    "plt.ylabel(\"Pct.\")"
   ]
  },
  {
   "cell_type": "code",
   "execution_count": 37,
   "id": "45589246",
   "metadata": {},
   "outputs": [
    {
     "name": "stdout",
     "output_type": "stream",
     "text": [
      "Revenue InfoBuck  False  True     Pct_F     Pct_T\n",
      "0            <=5  10298  1871  0.846249  0.153751\n",
      "1           <=10    115    35  0.766667  0.233333\n",
      "2           <=15      7     2  0.777778  0.222222\n",
      "3           <=20      1     0  1.000000  0.000000\n",
      "4            >20      1     0  1.000000  0.000000\n"
     ]
    }
   ],
   "source": [
    "# Info pageviews\n",
    "Info_pct = df.groupby('InfoBuck')['Revenue'].value_counts().unstack(fill_value=0).reset_index()\n",
    "Info_pct['Pct_F'] = Info_pct[False]/(Info_pct[False] + Info_pct[True])\n",
    "Info_pct['Pct_T'] = 1 - Info_pct['Pct_F']\n",
    "print(Info_pct)"
   ]
  },
  {
   "cell_type": "code",
   "execution_count": 80,
   "id": "ebc63892",
   "metadata": {},
   "outputs": [
    {
     "data": {
      "text/plain": [
       "Text(0, 0.5, 'Pct.')"
      ]
     },
     "execution_count": 80,
     "metadata": {},
     "output_type": "execute_result"
    },
    {
     "data": {
      "image/png": "[encoded data removed]",
      "text/plain": [
       "<Figure size 432x288 with 1 Axes>"
      ]
     },
     "metadata": {},
     "output_type": "display_data"
    }
   ],
   "source": [
    "# percentage stacked bar chart\n",
    "\n",
    "blueBars = Info_pct['Pct_T']\n",
    "orangeBars = Info_pct['Pct_F']\n",
    "\n",
    "barWidth = 0.7\n",
    "names = Info_pct['InfoBuck']\n",
    "# Create green Bars\n",
    "plt.bar(Info_pct['InfoBuck'],blueBars, color='#f9bc86', edgecolor='white', width=barWidth, label=\"Purchaser\")\n",
    "# Create orange Bars\n",
    "plt.bar(Info_pct['InfoBuck'], orangeBars, bottom=blueBars, color='#3caea3', edgecolor='white', width=barWidth, label=\"None Purchaser\")\n",
    "\n",
    "\n",
    "# Plot format\n",
    "plt.title('Comparison by Info pageviews')\n",
    "plt.legend(loc='upper left', bbox_to_anchor=(1,1), ncol=1)\n",
    "plt.xlabel(\"Buckets\")\n",
    "plt.ylabel(\"Pct.\")"
   ]
  },
  {
   "cell_type": "code",
   "execution_count": 123,
   "id": "160b8062",
   "metadata": {},
   "outputs": [
    {
     "name": "stdout",
     "output_type": "stream",
     "text": [
      "Ttest_indResult(statistic=14.001713516383052, pvalue=4.4173924627200286e-43) Ttest_indResult(statistic=14.44698899755261, pvalue=1.0868955218867412e-45) Ttest_indResult(statistic=31.199175198717576, pvalue=4.805334750001626e-174)\n"
     ]
    }
   ],
   "source": [
    "# test\n",
    "# check on variance - not the same, have to use Welch t-test \n",
    "df.groupby('Revenue')['ProductRelated'].describe()\n",
    "df.groupby('Revenue')['ProductRelated_Duration'].describe()\n",
    "df.groupby('Revenue')['PageValues'].describe()\n",
    "purch = df[df.Revenue == True]\n",
    "nonpurch = df[df.Revenue == False]\n",
    "\n",
    "# Bonfarroni correction\n",
    "#Performing 3 test, threshold set to 5%/3 = 1.67%\n",
    "#pageviews on product\n",
    "t1 = stats.ttest_ind(purch['ProductRelated'],nonpurch['ProductRelated'], equal_var = False,  alternative='greater')\n",
    "#print(\"ProductRelated: {:2.4f}\".format(t1[1]))\n",
    "#avg page value\n",
    "t2 = stats.ttest_ind(purch['ProductRelated_Duration'],nonpurch['ProductRelated_Duration'], equal_var = False,  alternative='greater')\n",
    "#session time\n",
    "t3 = stats.ttest_ind(purch['PageValues'],nonpurch['PageValues'], equal_var = False,  alternative='greater')\n",
    "\n",
    "print(t1, t2, t3)\n"
   ]
  }
 ],
 "metadata": {
  "kernelspec": {
   "display_name": "Python 3",
   "language": "python",
   "name": "python3"
  },
  "language_info": {
   "codemirror_mode": {
    "name": "ipython",
    "version": 3
   },
   "file_extension": ".py",
   "mimetype": "text/x-python",
   "name": "python",
   "nbconvert_exporter": "python",
   "pygments_lexer": "ipython3",
   "version": "3.8.10"
  }
 },
 "nbformat": 4,
 "nbformat_minor": 5
}
